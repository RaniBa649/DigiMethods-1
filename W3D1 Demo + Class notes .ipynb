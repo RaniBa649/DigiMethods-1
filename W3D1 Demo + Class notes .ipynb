{
 "cells": [
  {
   "cell_type": "code",
   "execution_count": 6,
   "metadata": {},
   "outputs": [],
   "source": [
    "#function average: calculates the average of a list of numbers\n",
    "#Expected input: a list that consists only of numbers (int or float)\n",
    "#Output: a float that is the average of all the numbers in the list\n",
    "def average (a_list):\n",
    "    avg = 0\n",
    "    \n",
    "    #loop through elements and add them\n",
    "    for element in a_list: \n",
    "        avg += element\n",
    "    \n",
    "    #return the sum divided by the length of the list, e.g. number of elements\n",
    "    return (avg / len(a_list))\n",
    "     "
   ]
  },
  {
   "cell_type": "code",
   "execution_count": 7,
   "metadata": {},
   "outputs": [
    {
     "name": "stdout",
     "output_type": "stream",
     "text": [
      "4362.975\n"
     ]
    }
   ],
   "source": [
    "#Data from https://www.statbank.dk/10021\n",
    "DK_population =[2447,2477,2506,2532,2560,2589,2621,2652,2687,2722,\n",
    "                2757,2788,2820,2851,2886,2921,2958,2991,3027,3061,\n",
    "                3265,3306,3340,3372,3406,3439,3467,3487,3510,3531,\n",
    "                3557,3590,3620,3651,3683,3711,3738,3765,3794,3826,\n",
    "                3849,3882,3926,3973,4023,4075,4123,4168,4211,4252,\n",
    "                4285,4315,4349,4389,4424,4454,4479,4501,4532,4566,\n",
    "                4601,4630,4666,4703,4741,4779,4820,4855,4879,4907,\n",
    "                4951,4976,5008,5036,5054,5065,5080,5097,5112,5122,\n",
    "                5124,5119,5116,5112,5111,5116,5125,5129,5130,5135,\n",
    "                5146,5162,5181,5197,5216,5251,5275,5295,5314,5330,\n",
    "                5349,5368,5384,5398,5411,5427,5447,5476,5511,5535,\n",
    "                5561,5581,5603,5627,5660,5707,5749,5781,5806,5823]\n",
    "\n",
    "print(average(DK_population))"
   ]
  },
  {
   "cell_type": "code",
   "execution_count": 8,
   "metadata": {},
   "outputs": [
    {
     "name": "stdout",
     "output_type": "stream",
     "text": [
      "6.75\n",
      "5.475\n"
     ]
    }
   ],
   "source": [
    "#list of integers\n",
    "int_list = [5,3,8,11]\n",
    "float_list = [3.6, 8.8, 1.3, 8.2]\n",
    "\n",
    "#calculate average\n",
    "my_average1 = average(int_list)\n",
    "my_average2 = average(float_list)\n",
    "\n",
    "#print average\n",
    "print(my_average1)\n",
    "print(my_average2)\n"
   ]
  },
  {
   "cell_type": "code",
   "execution_count": 10,
   "metadata": {},
   "outputs": [],
   "source": [
    "#Testing average function with a different list\n",
    "mixed_list = ['1.3','a',3,9]\n",
    "#my_average3 = average(mixed_list)\n",
    "#print(my_average3)"
   ]
  },
  {
   "cell_type": "code",
   "execution_count": 11,
   "metadata": {},
   "outputs": [],
   "source": [
    "#all the above are tests of our function 'average'. \n",
    "#we learned that there are problems if 'average' gets a list that includes \n",
    "#elements that are not strings\n",
    "#making a new function better_average that includes error handling\n",
    "\n",
    "#function better_average: calculates the average of a list of numbers\n",
    "#Expected input: a list that consists only of numbers (int, float, or string representations of a number)\n",
    "#Expected output: a float that is the average of all the numbers in the list\n",
    "#Returns None if a list element is invalid\n",
    "def better_average(a_list): \n",
    "    avg = 0\n",
    "    \n",
    "    for element in a_list:\n",
    "        #Try to do this\n",
    "        try:\n",
    "            value = float(element)\n",
    "        #Do this if there was a ValueError\n",
    "        except ValueError: \n",
    "            print(\"This list includes elements that are not numbers. An average cannot be calculated.\")\n",
    "            return None \n",
    "        #Otherwise add the value to the average sum\n",
    "        else:\n",
    "            avg += value\n",
    "        \n",
    "    return (avg / len(a_list))       "
   ]
  },
  {
   "cell_type": "code",
   "execution_count": 12,
   "metadata": {},
   "outputs": [
    {
     "name": "stdout",
     "output_type": "stream",
     "text": [
      "6.75\n",
      "5.475\n",
      "This list includes elements that are not numbers. An average cannot be calculated.\n",
      "None\n"
     ]
    }
   ],
   "source": [
    "#Testing average function with our previously declared list\n",
    "b_avg_var1 = better_average(int_list)\n",
    "print(b_avg_var1)\n",
    "b_avg_var2 = better_average(float_list)\n",
    "print(b_avg_var2)\n",
    "b_avg_var3 = better_average(mixed_list)\n",
    "print(b_avg_var3)"
   ]
  },
  {
   "cell_type": "code",
   "execution_count": 13,
   "metadata": {},
   "outputs": [],
   "source": [
    "#Opening a file\n",
    "f = open('course_description.txt', 'r')\n"
   ]
  },
  {
   "cell_type": "code",
   "execution_count": 14,
   "metadata": {},
   "outputs": [],
   "source": [
    "#reading the first line of the file\n",
    "first_string = f.readline()"
   ]
  },
  {
   "cell_type": "code",
   "execution_count": 15,
   "metadata": {},
   "outputs": [
    {
     "name": "stdout",
     "output_type": "stream",
     "text": [
      "The rise of new types of digital data and the varieties of social life taking place on social media platforms enable new relations between quantitative and qualitative methods of inquiry and analysis. How such new complementarities are best exploited for social-scientific and practical purposes will be the focus of this course.\n",
      "\n"
     ]
    }
   ],
   "source": [
    "#printing to see what the first line is\n",
    "print(first_string)"
   ]
  },
  {
   "cell_type": "code",
   "execution_count": 17,
   "metadata": {},
   "outputs": [
    {
     "data": {
      "text/plain": [
       "29"
      ]
     },
     "execution_count": 17,
     "metadata": {},
     "output_type": "execute_result"
    }
   ],
   "source": [
    "#Opening a file to write\n",
    "#Note: If this file already exists, it will be overwritten\n",
    "f2 = open('new_file.txt', 'w')\n",
    "\n",
    "#Writing to the file\n",
    "f2.write(\"I’m writing to my first file!\")\n",
    "#f2.write = gives back the number of caracters "
   ]
  },
  {
   "cell_type": "code",
   "execution_count": 18,
   "metadata": {},
   "outputs": [],
   "source": [
    "#Closing all our files\n",
    "f.close()\n",
    "f2.close()\n",
    "#after closing the file, we open it by just searching for the text file in the computer and then will the written sentence ill be found ion the file \n"
   ]
  },
  {
   "cell_type": "code",
   "execution_count": 20,
   "metadata": {},
   "outputs": [
    {
     "name": "stdout",
     "output_type": "stream",
     "text": [
      "new_file.txt\n",
      "W2D2-Exercise2.ipynb\n",
      "W2D1-Exercise1_sol.ipynb\n",
      "stop_words.txt\n",
      "W1D2-3_2_commenting.ipynb\n",
      "sodas_people.txt\n",
      "README.md\n",
      "W2D2-Exercise_sol.ipynb\n",
      "octocat.png\n",
      ".gitattributes\n",
      "course_description.txt\n",
      ".ipynb_checkpoints\n",
      "W2D1-Exercise1.ipynb\n",
      "W1D2-3_2_commenting.py\n",
      "exercise 1.ipynb\n",
      ".git\n",
      "W3D1-Exercise3.ipynb\n",
      "W3D1 Demo + Class notes .ipynb\n",
      "Speech_2019.txt\n"
     ]
    }
   ],
   "source": [
    "#Importing our first library\n",
    "import os\n",
    "\n",
    "#looping through all of the files in the current directory\n",
    "#the filenames are usually strings so with the quoatation mark \n",
    "for filename in os.listdir('.'):\n",
    "    #printing the files\n",
    "    print(filename)\n"
   ]
  },
  {
   "cell_type": "code",
   "execution_count": 28,
   "metadata": {
    "collapsed": true
   },
   "outputs": [
    {
     "name": "stdout",
     "output_type": "stream",
     "text": [
      "<re.Match object; span=(0, 29), match='samantha.breslin@anthro.ku.dk'>\n",
      "None\n"
     ]
    }
   ],
   "source": [
    "import re\n",
    "#our regular expression pattern for an email\n",
    "email_pattern = '(\\S+@\\S+\\.(\\w){2,3})'\n",
    "#\\S =capture charachters that are not whitespace because we are doing capital S\n",
    "# .(\\w){2,3} => is the part after \".\" in the emial menaing it can be a charachter thta has 2 to 3 charachters which would be .com,.dk; etc \n",
    "#+ = meanign one  or more times \n",
    "#Our test cases\n",
    "print(re.search(email_pattern, 'samantha.breslin@anthro.ku.dk'))\n",
    "print(re.search(email_pattern, 'I\\'ll be @ work'))"
   ]
  },
  {
   "cell_type": "code",
   "execution_count": 21,
   "metadata": {},
   "outputs": [],
   "source": [
    "#A function that finds the emails in a file\n",
    "#Expected input: a filename for an existing file (will cause an error if the file does not exist)\n",
    "#Expected output: Writes to a text file called filename_emails.txt that lists all the emails found \n",
    "#in the original file separated by newlines\n",
    "def read_emails(filename):\n",
    "    #import regular expressions\n",
    "    import re\n",
    "\n",
    "    #our regular expression pattern for an email\n",
    "    email_pattern = '(\\S+@\\S+\\.(\\w){2,3})'\n",
    "\n",
    "    #Opening file\n",
    "    file = open(filename,'r')\n",
    "    #Create empty list to store emails\n",
    "    emails = []\n",
    "\n",
    "    #loop through each line in the file\n",
    "    for line in file:\n",
    "        #try to search for an email\n",
    "        temp_email = re.search(email_pattern, line)\n",
    "        \n",
    "        #If an email was found, add it to the list\n",
    "        if temp_email: \n",
    "            emails.append(temp_email.group())\n",
    "\n",
    "    #Close the file, since we're done with it\n",
    "    file.close()\n",
    "    \n",
    "    #removing the file extension\n",
    "    short_name = filename.split('.')[0]\n",
    "    \n",
    "    #Create a new file for the email names\n",
    "    email_file = open(short_name +'_emails.txt', 'w')\n",
    "\n",
    "    #go through each email in the list and write the email to the new file\n",
    "    for element in emails:\n",
    "        email_file.write(element + '\\n')\n",
    "\n",
    "    #Close the new file with all the emails\n",
    "    email_file.close()\n"
   ]
  },
  {
   "cell_type": "code",
   "execution_count": 22,
   "metadata": {},
   "outputs": [
    {
     "ename": "UnicodeDecodeError",
     "evalue": "'utf-8' codec can't decode byte 0xf8 in position 1: invalid start byte",
     "output_type": "error",
     "traceback": [
      "\u001b[0;31m---------------------------------------------------------------------------\u001b[0m",
      "\u001b[0;31mUnicodeDecodeError\u001b[0m                        Traceback (most recent call last)",
      "\u001b[0;32m<ipython-input-22-e5e960d92fc4>\u001b[0m in \u001b[0;36m<module>\u001b[0;34m\u001b[0m\n\u001b[1;32m      1\u001b[0m \u001b[0;31m#Testing our function\u001b[0m\u001b[0;34m\u001b[0m\u001b[0;34m\u001b[0m\u001b[0;34m\u001b[0m\u001b[0m\n\u001b[0;32m----> 2\u001b[0;31m \u001b[0mread_emails\u001b[0m\u001b[0;34m(\u001b[0m\u001b[0;34m'sodas_people.txt'\u001b[0m\u001b[0;34m)\u001b[0m\u001b[0;34m\u001b[0m\u001b[0;34m\u001b[0m\u001b[0m\n\u001b[0m",
      "\u001b[0;32m<ipython-input-21-748deeeec8dc>\u001b[0m in \u001b[0;36mread_emails\u001b[0;34m(filename)\u001b[0m\n\u001b[1;32m     16\u001b[0m \u001b[0;34m\u001b[0m\u001b[0m\n\u001b[1;32m     17\u001b[0m     \u001b[0;31m#loop through each line in the file\u001b[0m\u001b[0;34m\u001b[0m\u001b[0;34m\u001b[0m\u001b[0;34m\u001b[0m\u001b[0m\n\u001b[0;32m---> 18\u001b[0;31m     \u001b[0;32mfor\u001b[0m \u001b[0mline\u001b[0m \u001b[0;32min\u001b[0m \u001b[0mfile\u001b[0m\u001b[0;34m:\u001b[0m\u001b[0;34m\u001b[0m\u001b[0;34m\u001b[0m\u001b[0m\n\u001b[0m\u001b[1;32m     19\u001b[0m         \u001b[0;31m#try to search for an email\u001b[0m\u001b[0;34m\u001b[0m\u001b[0;34m\u001b[0m\u001b[0;34m\u001b[0m\u001b[0m\n\u001b[1;32m     20\u001b[0m         \u001b[0mtemp_email\u001b[0m \u001b[0;34m=\u001b[0m \u001b[0mre\u001b[0m\u001b[0;34m.\u001b[0m\u001b[0msearch\u001b[0m\u001b[0;34m(\u001b[0m\u001b[0memail_pattern\u001b[0m\u001b[0;34m,\u001b[0m \u001b[0mline\u001b[0m\u001b[0;34m)\u001b[0m\u001b[0;34m\u001b[0m\u001b[0;34m\u001b[0m\u001b[0m\n",
      "\u001b[0;32m/opt/anaconda3/lib/python3.7/codecs.py\u001b[0m in \u001b[0;36mdecode\u001b[0;34m(self, input, final)\u001b[0m\n\u001b[1;32m    320\u001b[0m         \u001b[0;31m# decode input (taking the buffer into account)\u001b[0m\u001b[0;34m\u001b[0m\u001b[0;34m\u001b[0m\u001b[0;34m\u001b[0m\u001b[0m\n\u001b[1;32m    321\u001b[0m         \u001b[0mdata\u001b[0m \u001b[0;34m=\u001b[0m \u001b[0mself\u001b[0m\u001b[0;34m.\u001b[0m\u001b[0mbuffer\u001b[0m \u001b[0;34m+\u001b[0m \u001b[0minput\u001b[0m\u001b[0;34m\u001b[0m\u001b[0;34m\u001b[0m\u001b[0m\n\u001b[0;32m--> 322\u001b[0;31m         \u001b[0;34m(\u001b[0m\u001b[0mresult\u001b[0m\u001b[0;34m,\u001b[0m \u001b[0mconsumed\u001b[0m\u001b[0;34m)\u001b[0m \u001b[0;34m=\u001b[0m \u001b[0mself\u001b[0m\u001b[0;34m.\u001b[0m\u001b[0m_buffer_decode\u001b[0m\u001b[0;34m(\u001b[0m\u001b[0mdata\u001b[0m\u001b[0;34m,\u001b[0m \u001b[0mself\u001b[0m\u001b[0;34m.\u001b[0m\u001b[0merrors\u001b[0m\u001b[0;34m,\u001b[0m \u001b[0mfinal\u001b[0m\u001b[0;34m)\u001b[0m\u001b[0;34m\u001b[0m\u001b[0;34m\u001b[0m\u001b[0m\n\u001b[0m\u001b[1;32m    323\u001b[0m         \u001b[0;31m# keep undecoded input until the next call\u001b[0m\u001b[0;34m\u001b[0m\u001b[0;34m\u001b[0m\u001b[0;34m\u001b[0m\u001b[0m\n\u001b[1;32m    324\u001b[0m         \u001b[0mself\u001b[0m\u001b[0;34m.\u001b[0m\u001b[0mbuffer\u001b[0m \u001b[0;34m=\u001b[0m \u001b[0mdata\u001b[0m\u001b[0;34m[\u001b[0m\u001b[0mconsumed\u001b[0m\u001b[0;34m:\u001b[0m\u001b[0;34m]\u001b[0m\u001b[0;34m\u001b[0m\u001b[0;34m\u001b[0m\u001b[0m\n",
      "\u001b[0;31mUnicodeDecodeError\u001b[0m: 'utf-8' codec can't decode byte 0xf8 in position 1: invalid start byte"
     ]
    }
   ],
   "source": [
    "#Testing our function\n",
    "read_emails('sodas_people.txt')"
   ]
  },
  {
   "cell_type": "code",
   "execution_count": null,
   "metadata": {},
   "outputs": [],
   "source": []
  }
 ],
 "metadata": {
  "kernelspec": {
   "display_name": "Python 3",
   "language": "python",
   "name": "python3"
  },
  "language_info": {
   "codemirror_mode": {
    "name": "ipython",
    "version": 3
   },
   "file_extension": ".py",
   "mimetype": "text/x-python",
   "name": "python",
   "nbconvert_exporter": "python",
   "pygments_lexer": "ipython3",
   "version": "3.7.4"
  }
 },
 "nbformat": 4,
 "nbformat_minor": 2
}
