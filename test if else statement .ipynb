{
 "cells": [
  {
   "cell_type": "code",
   "execution_count": 4,
   "metadata": {},
   "outputs": [
    {
     "name": "stdout",
     "output_type": "stream",
     "text": [
      "number of passengers in the car5.5\n",
      "car is full\n"
     ]
    }
   ],
   "source": [
    "passengers = int(input('number of passengers in the car'))\n",
    "\n",
    "if passengers >= 5:\n",
    "    print('car is full')\n",
    "    \n",
    "else: \n",
    "    print ('the car is not full at all')"
   ]
  },
  {
   "cell_type": "code",
   "execution_count": 11,
   "metadata": {},
   "outputs": [
    {
     "name": "stdout",
     "output_type": "stream",
     "text": [
      "number101\n",
      "all good\n"
     ]
    }
   ],
   "source": [
    "number = int(input('number'))\n",
    "\n",
    "if number >= 100 : \n",
    "    print('all good')\n",
    "\n",
    "else: \n",
    "    print (\"no way\")\n",
    "    \n"
   ]
  },
  {
   "cell_type": "code",
   "execution_count": 34,
   "metadata": {},
   "outputs": [
    {
     "data": {
      "text/plain": [
       "2"
      ]
     },
     "execution_count": 34,
     "metadata": {},
     "output_type": "execute_result"
    }
   ],
   "source": [
    "#lists have square brackets \n",
    "mammals = [\"dog\", \"cat\", \"dolphin\"]\n",
    "reptiles = [\"gecko\", \"monitor lizard\", \"iguana\"]\n",
    "\n",
    "#The index of \"iguana\" is 2 because indices start from 0=> important \n",
    "#Checking answer\n",
    "\n",
    "\n",
    "reptiles.index('iguana')"
   ]
  },
  {
   "cell_type": "code",
   "execution_count": 43,
   "metadata": {},
   "outputs": [
    {
     "data": {
      "text/plain": [
       "'3'"
      ]
     },
     "execution_count": 43,
     "metadata": {},
     "output_type": "execute_result"
    }
   ],
   "source": [
    "animals2 = [mammals, reptiles]\n",
    "#what do I do if I wanna see if the word dolphin exists in one of these sublists and then see what index it has \n",
    "str(len(mammals))"
   ]
  },
  {
   "cell_type": "code",
   "execution_count": 49,
   "metadata": {},
   "outputs": [
    {
     "name": "stdout",
     "output_type": "stream",
     "text": [
      "length of first list: 3\n"
     ]
    }
   ],
   "source": [
    "print ('length of first list: ' + str(len(mammals)))"
   ]
  },
  {
   "cell_type": "code",
   "execution_count": 94,
   "metadata": {},
   "outputs": [
    {
     "name": "stdout",
     "output_type": "stream",
     "text": [
      "120\n",
      "275\n",
      "24\n",
      "2532\n"
     ]
    }
   ],
   "source": [
    "DK_population =[2447,2477,2506,2532,2560,2589,2621,2652,2687,2722,\n",
    "                2757,2788,2820,2851,2886,2921,2958,2991,3027,3061,\n",
    "                3265,3306,3340,3372,3406,3439,3467,3487,3510,3531,\n",
    "                3557,3590,3620,3651,3683,3711,3738,3765,3794,3826,\n",
    "                3849,3882,3926,3973,4023,4075,4123,4168,4211,4252,\n",
    "                4285,4315,4349,4389,4424,4454,4479,4501,4532,4566,\n",
    "                4601,4630,4666,4703,4741,4779,4820,4855,4879,4907,\n",
    "                4951,4976,5008,5036,5054,5065,5080,5097,5112,5122,\n",
    "                5124,5119,5116,5112,5111,5116,5125,5129,5130,5135,\n",
    "                5146,5162,5181,5197,5216,5251,5275,5295,5314,5330,\n",
    "                5349,5368,5384,5398,5411,5427,5447,5476,5511,5535,\n",
    "                5561,5581,5603,5627,5660,5707,5749,5781,5806,5823]\n",
    "print (len(DK_population)) \n",
    "DK_pop_avg = 0 \n",
    "#i = population size \n",
    "for i in DK_population: \n",
    "    DK_pop_avg += i \n",
    "print  (max(DK_population[:10]) - min(DK_population[:10]))\n",
    "print (max(DK_population [80:90])- min(DK_population [80:90]))\n",
    "print (DK_population[3])"
   ]
  },
  {
   "cell_type": "code",
   "execution_count": 119,
   "metadata": {},
   "outputs": [
    {
     "name": "stdout",
     "output_type": "stream",
     "text": [
      "4362.975\n"
     ]
    }
   ],
   "source": [
    "DK_pop_sum = 0 \n",
    "for i in DK_population: \n",
    "    DK_pop_sum = DK_pop_sum + i \n",
    "\n",
    "DK_pop_sum = DK_pop_avg\n",
    "DK_pop_avg /= len(DK_population)\n",
    "\n",
    "print (DK_pop_avg)"
   ]
  },
  {
   "cell_type": "code",
   "execution_count": null,
   "metadata": {},
   "outputs": [],
   "source": [
    "DK_population_long []\n",
    "i = 0 \n",
    "while i < len(DK_population)\n"
   ]
  },
  {
   "cell_type": "code",
   "execution_count": 109,
   "metadata": {},
   "outputs": [
    {
     "data": {
      "text/plain": [
       "2"
      ]
     },
     "execution_count": 109,
     "metadata": {},
     "output_type": "execute_result"
    }
   ],
   "source": [
    "s1 = 'Chameleon'\n",
    "s1[-4:] \n",
    "s1.index ('a') "
   ]
  },
  {
   "cell_type": "code",
   "execution_count": null,
   "metadata": {},
   "outputs": [],
   "source": [
    "my_url = \"https://kurser.ku.dk/course/aana18119u/2019-2020\"\n"
   ]
  }
 ],
 "metadata": {
  "kernelspec": {
   "display_name": "Python 3",
   "language": "python",
   "name": "python3"
  },
  "language_info": {
   "codemirror_mode": {
    "name": "ipython",
    "version": 3
   },
   "file_extension": ".py",
   "mimetype": "text/x-python",
   "name": "python",
   "nbconvert_exporter": "python",
   "pygments_lexer": "ipython3",
   "version": "3.7.4"
  }
 },
 "nbformat": 4,
 "nbformat_minor": 2
}
